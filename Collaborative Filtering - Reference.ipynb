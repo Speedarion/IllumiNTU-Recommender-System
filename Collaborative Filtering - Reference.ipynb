{
 "cells": [
  {
   "cell_type": "code",
   "execution_count": 1,
   "metadata": {
    "id": "x0Ix0OIR_cNn"
   },
   "outputs": [
    {
     "data": {
      "text/plain": [
       "'1.6.0'"
      ]
     },
     "execution_count": 1,
     "metadata": {},
     "output_type": "execute_result"
    }
   ],
   "source": [
    "#hide\n",
    "#skip\n",
    "import torch\n",
    "torch.__version__\n",
    "#!pip install -Uqq fastai"
   ]
  },
  {
   "cell_type": "markdown",
   "metadata": {},
   "source": [
    "## This code was used as a reference for implementing Collaborative Filtering algorithm using the e-commerce dataset."
   ]
  },
  {
   "cell_type": "markdown",
   "metadata": {
    "id": "BozOzyxj_cNr"
   },
   "source": [
    "# Collaborative filtering\n",
    "\n",
    "> Using the fastai library for collaborative filtering."
   ]
  },
  {
   "cell_type": "code",
   "execution_count": 2,
   "metadata": {
    "id": "p7HFztf-_cNs"
   },
   "outputs": [],
   "source": [
    "from fastai.tabular.all import *\n",
    "from fastai.collab import *"
   ]
  },
  {
   "cell_type": "markdown",
   "metadata": {
    "id": "mmLEJ-q2_cNx"
   },
   "source": [
    "## Training a model"
   ]
  },
  {
   "cell_type": "markdown",
   "metadata": {
    "id": "APKohHjw_cNy"
   },
   "source": [
    "In this notebook, we will use the [Movielens 100k data dataset](https://grouplens.org/datasets/movielens/100k/). "
   ]
  },
  {
   "cell_type": "code",
   "execution_count": 3,
   "metadata": {
    "id": "mOBgz5Km_cN1",
    "outputId": "12ccdb1f-4cfd-4b56-8389-ccf20273a89e"
   },
   "outputs": [
    {
     "data": {
      "text/html": [
       "<div>\n",
       "<style scoped>\n",
       "    .dataframe tbody tr th:only-of-type {\n",
       "        vertical-align: middle;\n",
       "    }\n",
       "\n",
       "    .dataframe tbody tr th {\n",
       "        vertical-align: top;\n",
       "    }\n",
       "\n",
       "    .dataframe thead th {\n",
       "        text-align: right;\n",
       "    }\n",
       "</style>\n",
       "<table border=\"1\" class=\"dataframe\">\n",
       "  <thead>\n",
       "    <tr style=\"text-align: right;\">\n",
       "      <th></th>\n",
       "      <th>user</th>\n",
       "      <th>movie</th>\n",
       "      <th>rating</th>\n",
       "    </tr>\n",
       "  </thead>\n",
       "  <tbody>\n",
       "    <tr>\n",
       "      <th>0</th>\n",
       "      <td>196</td>\n",
       "      <td>242</td>\n",
       "      <td>3</td>\n",
       "    </tr>\n",
       "    <tr>\n",
       "      <th>1</th>\n",
       "      <td>186</td>\n",
       "      <td>302</td>\n",
       "      <td>3</td>\n",
       "    </tr>\n",
       "    <tr>\n",
       "      <th>2</th>\n",
       "      <td>22</td>\n",
       "      <td>377</td>\n",
       "      <td>1</td>\n",
       "    </tr>\n",
       "    <tr>\n",
       "      <th>3</th>\n",
       "      <td>244</td>\n",
       "      <td>51</td>\n",
       "      <td>2</td>\n",
       "    </tr>\n",
       "    <tr>\n",
       "      <th>4</th>\n",
       "      <td>166</td>\n",
       "      <td>346</td>\n",
       "      <td>1</td>\n",
       "    </tr>\n",
       "  </tbody>\n",
       "</table>\n",
       "</div>"
      ],
      "text/plain": [
       "   user  movie  rating\n",
       "0   196    242       3\n",
       "1   186    302       3\n",
       "2    22    377       1\n",
       "3   244     51       2\n",
       "4   166    346       1"
      ]
     },
     "execution_count": 3,
     "metadata": {},
     "output_type": "execute_result"
    }
   ],
   "source": [
    "ratings = pd.read_csv('ml-100k/u.data', delimiter='\\t', header=None,\n",
    "                      usecols=(0,1,2), names=['user','movie','rating'])\n",
    "ratings.head()"
   ]
  },
  {
   "cell_type": "code",
   "execution_count": 4,
   "metadata": {
    "id": "Z-oochn9_cN5",
    "outputId": "1d2e05a7-9fe0-494b-870d-fc4c5f600728"
   },
   "outputs": [
    {
     "data": {
      "text/html": [
       "<div>\n",
       "<style scoped>\n",
       "    .dataframe tbody tr th:only-of-type {\n",
       "        vertical-align: middle;\n",
       "    }\n",
       "\n",
       "    .dataframe tbody tr th {\n",
       "        vertical-align: top;\n",
       "    }\n",
       "\n",
       "    .dataframe thead th {\n",
       "        text-align: right;\n",
       "    }\n",
       "</style>\n",
       "<table border=\"1\" class=\"dataframe\">\n",
       "  <thead>\n",
       "    <tr style=\"text-align: right;\">\n",
       "      <th></th>\n",
       "      <th>movie</th>\n",
       "      <th>title</th>\n",
       "    </tr>\n",
       "  </thead>\n",
       "  <tbody>\n",
       "    <tr>\n",
       "      <th>0</th>\n",
       "      <td>1</td>\n",
       "      <td>Toy Story (1995)</td>\n",
       "    </tr>\n",
       "    <tr>\n",
       "      <th>1</th>\n",
       "      <td>2</td>\n",
       "      <td>GoldenEye (1995)</td>\n",
       "    </tr>\n",
       "    <tr>\n",
       "      <th>2</th>\n",
       "      <td>3</td>\n",
       "      <td>Four Rooms (1995)</td>\n",
       "    </tr>\n",
       "    <tr>\n",
       "      <th>3</th>\n",
       "      <td>4</td>\n",
       "      <td>Get Shorty (1995)</td>\n",
       "    </tr>\n",
       "    <tr>\n",
       "      <th>4</th>\n",
       "      <td>5</td>\n",
       "      <td>Copycat (1995)</td>\n",
       "    </tr>\n",
       "  </tbody>\n",
       "</table>\n",
       "</div>"
      ],
      "text/plain": [
       "   movie              title\n",
       "0      1   Toy Story (1995)\n",
       "1      2   GoldenEye (1995)\n",
       "2      3  Four Rooms (1995)\n",
       "3      4  Get Shorty (1995)\n",
       "4      5     Copycat (1995)"
      ]
     },
     "execution_count": 4,
     "metadata": {},
     "output_type": "execute_result"
    }
   ],
   "source": [
    "movies = pd.read_csv('ml-100k/u.item',  delimiter='|', encoding='latin-1',\n",
    "                     usecols=(0,1), names=('movie','title'), header=None)\n",
    "movies.head()"
   ]
  },
  {
   "cell_type": "code",
   "execution_count": 5,
   "metadata": {
    "id": "mlOb2-O2_cN8",
    "outputId": "18242865-d375-44f5-b95f-3c8f063c2d46"
   },
   "outputs": [
    {
     "data": {
      "text/html": [
       "<div>\n",
       "<style scoped>\n",
       "    .dataframe tbody tr th:only-of-type {\n",
       "        vertical-align: middle;\n",
       "    }\n",
       "\n",
       "    .dataframe tbody tr th {\n",
       "        vertical-align: top;\n",
       "    }\n",
       "\n",
       "    .dataframe thead th {\n",
       "        text-align: right;\n",
       "    }\n",
       "</style>\n",
       "<table border=\"1\" class=\"dataframe\">\n",
       "  <thead>\n",
       "    <tr style=\"text-align: right;\">\n",
       "      <th></th>\n",
       "      <th>user</th>\n",
       "      <th>movie</th>\n",
       "      <th>rating</th>\n",
       "      <th>title</th>\n",
       "    </tr>\n",
       "  </thead>\n",
       "  <tbody>\n",
       "    <tr>\n",
       "      <th>0</th>\n",
       "      <td>196</td>\n",
       "      <td>242</td>\n",
       "      <td>3</td>\n",
       "      <td>Kolya (1996)</td>\n",
       "    </tr>\n",
       "    <tr>\n",
       "      <th>1</th>\n",
       "      <td>63</td>\n",
       "      <td>242</td>\n",
       "      <td>3</td>\n",
       "      <td>Kolya (1996)</td>\n",
       "    </tr>\n",
       "    <tr>\n",
       "      <th>2</th>\n",
       "      <td>226</td>\n",
       "      <td>242</td>\n",
       "      <td>5</td>\n",
       "      <td>Kolya (1996)</td>\n",
       "    </tr>\n",
       "    <tr>\n",
       "      <th>3</th>\n",
       "      <td>154</td>\n",
       "      <td>242</td>\n",
       "      <td>3</td>\n",
       "      <td>Kolya (1996)</td>\n",
       "    </tr>\n",
       "    <tr>\n",
       "      <th>4</th>\n",
       "      <td>306</td>\n",
       "      <td>242</td>\n",
       "      <td>5</td>\n",
       "      <td>Kolya (1996)</td>\n",
       "    </tr>\n",
       "  </tbody>\n",
       "</table>\n",
       "</div>"
      ],
      "text/plain": [
       "   user  movie  rating         title\n",
       "0   196    242       3  Kolya (1996)\n",
       "1    63    242       3  Kolya (1996)\n",
       "2   226    242       5  Kolya (1996)\n",
       "3   154    242       3  Kolya (1996)\n",
       "4   306    242       5  Kolya (1996)"
      ]
     },
     "execution_count": 5,
     "metadata": {},
     "output_type": "execute_result"
    }
   ],
   "source": [
    "ratings = ratings.merge(movies)\n",
    "ratings.head()"
   ]
  },
  {
   "cell_type": "code",
   "execution_count": 6,
   "metadata": {
    "id": "8ATCtZB7_cN_"
   },
   "outputs": [],
   "source": [
    "dls = CollabDataLoaders.from_df(ratings, item_name='title', bs=64)"
   ]
  },
  {
   "cell_type": "code",
   "execution_count": 7,
   "metadata": {
    "id": "7AkKL-Oq_cOC",
    "outputId": "d9bee3fa-b8e9-42d0-c8f1-8e27d9a7007b"
   },
   "outputs": [
    {
     "data": {
      "text/html": [
       "<table border=\"1\" class=\"dataframe\">\n",
       "  <thead>\n",
       "    <tr style=\"text-align: right;\">\n",
       "      <th></th>\n",
       "      <th>user</th>\n",
       "      <th>title</th>\n",
       "      <th>rating</th>\n",
       "    </tr>\n",
       "  </thead>\n",
       "  <tbody>\n",
       "    <tr>\n",
       "      <th>0</th>\n",
       "      <td>14</td>\n",
       "      <td>Beautiful Girls (1996)</td>\n",
       "      <td>3</td>\n",
       "    </tr>\n",
       "    <tr>\n",
       "      <th>1</th>\n",
       "      <td>548</td>\n",
       "      <td>Twelve Monkeys (1995)</td>\n",
       "      <td>5</td>\n",
       "    </tr>\n",
       "    <tr>\n",
       "      <th>2</th>\n",
       "      <td>389</td>\n",
       "      <td>Air Force One (1997)</td>\n",
       "      <td>3</td>\n",
       "    </tr>\n",
       "    <tr>\n",
       "      <th>3</th>\n",
       "      <td>907</td>\n",
       "      <td>It's a Wonderful Life (1946)</td>\n",
       "      <td>4</td>\n",
       "    </tr>\n",
       "    <tr>\n",
       "      <th>4</th>\n",
       "      <td>636</td>\n",
       "      <td>Screamers (1995)</td>\n",
       "      <td>5</td>\n",
       "    </tr>\n",
       "    <tr>\n",
       "      <th>5</th>\n",
       "      <td>393</td>\n",
       "      <td>Prophecy, The (1995)</td>\n",
       "      <td>4</td>\n",
       "    </tr>\n",
       "    <tr>\n",
       "      <th>6</th>\n",
       "      <td>429</td>\n",
       "      <td>Bean (1997)</td>\n",
       "      <td>3</td>\n",
       "    </tr>\n",
       "    <tr>\n",
       "      <th>7</th>\n",
       "      <td>249</td>\n",
       "      <td>Shallow Grave (1994)</td>\n",
       "      <td>4</td>\n",
       "    </tr>\n",
       "    <tr>\n",
       "      <th>8</th>\n",
       "      <td>693</td>\n",
       "      <td>Piano, The (1993)</td>\n",
       "      <td>2</td>\n",
       "    </tr>\n",
       "    <tr>\n",
       "      <th>9</th>\n",
       "      <td>716</td>\n",
       "      <td>Circle of Friends (1995)</td>\n",
       "      <td>4</td>\n",
       "    </tr>\n",
       "  </tbody>\n",
       "</table>"
      ],
      "text/plain": [
       "<IPython.core.display.HTML object>"
      ]
     },
     "metadata": {},
     "output_type": "display_data"
    }
   ],
   "source": [
    "dls.show_batch()"
   ]
  },
  {
   "cell_type": "code",
   "execution_count": 8,
   "metadata": {
    "id": "xm2QWYKt_cOF"
   },
   "outputs": [],
   "source": [
    "learn = collab_learner(dls, n_factors=50, y_range=(0, 5.5))"
   ]
  },
  {
   "cell_type": "code",
   "execution_count": 9,
   "metadata": {
    "id": "Jvd6EwFD_cOH",
    "outputId": "e7c4fd5a-6b0b-4423-8883-b6da6f78bb7c"
   },
   "outputs": [
    {
     "data": {
      "text/html": [
       "<table border=\"1\" class=\"dataframe\">\n",
       "  <thead>\n",
       "    <tr style=\"text-align: left;\">\n",
       "      <th>epoch</th>\n",
       "      <th>train_loss</th>\n",
       "      <th>valid_loss</th>\n",
       "      <th>time</th>\n",
       "    </tr>\n",
       "  </thead>\n",
       "  <tbody>\n",
       "    <tr>\n",
       "      <td>0</td>\n",
       "      <td>0.975831</td>\n",
       "      <td>0.930637</td>\n",
       "      <td>00:10</td>\n",
       "    </tr>\n",
       "    <tr>\n",
       "      <td>1</td>\n",
       "      <td>0.837065</td>\n",
       "      <td>0.864552</td>\n",
       "      <td>00:10</td>\n",
       "    </tr>\n",
       "    <tr>\n",
       "      <td>2</td>\n",
       "      <td>0.742641</td>\n",
       "      <td>0.826918</td>\n",
       "      <td>00:10</td>\n",
       "    </tr>\n",
       "    <tr>\n",
       "      <td>3</td>\n",
       "      <td>0.579480</td>\n",
       "      <td>0.815448</td>\n",
       "      <td>00:10</td>\n",
       "    </tr>\n",
       "    <tr>\n",
       "      <td>4</td>\n",
       "      <td>0.474087</td>\n",
       "      <td>0.816096</td>\n",
       "      <td>00:10</td>\n",
       "    </tr>\n",
       "  </tbody>\n",
       "</table>"
      ],
      "text/plain": [
       "<IPython.core.display.HTML object>"
      ]
     },
     "metadata": {},
     "output_type": "display_data"
    }
   ],
   "source": [
    "learn.fit_one_cycle(5, 5e-3, wd=0.1)"
   ]
  },
  {
   "cell_type": "markdown",
   "metadata": {
    "id": "N_pObjsD_cOL"
   },
   "source": [
    "## Interpretation"
   ]
  },
  {
   "cell_type": "markdown",
   "metadata": {
    "id": "oxOY8VQg_cOL"
   },
   "source": [
    "The 1000 most rated movies for this:"
   ]
  },
  {
   "cell_type": "code",
   "execution_count": 10,
   "metadata": {
    "id": "L2jsTlIc_cOM",
    "outputId": "e9030b23-257e-4231-ad8a-a25a86f5cc29"
   },
   "outputs": [
    {
     "data": {
      "text/plain": [
       "array(['Star Wars (1977)', 'Contact (1997)', 'Fargo (1996)',\n",
       "       'Return of the Jedi (1983)', 'Liar Liar (1997)',\n",
       "       'English Patient, The (1996)', 'Scream (1996)', 'Toy Story (1995)',\n",
       "       'Air Force One (1997)', 'Independence Day (ID4) (1996)'],\n",
       "      dtype=object)"
      ]
     },
     "execution_count": 10,
     "metadata": {},
     "output_type": "execute_result"
    }
   ],
   "source": [
    "g = ratings.groupby('title')['rating'].count()\n",
    "top_movies = g.sort_values(ascending=False).index.values[:1000]\n",
    "top_movies[:10]"
   ]
  },
  {
   "cell_type": "markdown",
   "metadata": {
    "id": "S2wX01KS_cOO"
   },
   "source": [
    "### Movie bias"
   ]
  },
  {
   "cell_type": "markdown",
   "metadata": {
    "id": "DNzMmFWW_cOP"
   },
   "source": [
    "The model has learned one bias per movie, a unique number independent of users."
   ]
  },
  {
   "cell_type": "code",
   "execution_count": 11,
   "metadata": {
    "id": "Tyjj3j2y_cOP",
    "outputId": "f893b652-4ad5-4736-fbee-6553cdd6992f"
   },
   "outputs": [
    {
     "data": {
      "text/plain": [
       "torch.Size([1000])"
      ]
     },
     "execution_count": 11,
     "metadata": {},
     "output_type": "execute_result"
    }
   ],
   "source": [
    "movie_bias = learn.model.bias(top_movies, is_item=True)\n",
    "movie_bias.shape"
   ]
  },
  {
   "cell_type": "markdown",
   "metadata": {
    "id": "55jrxp70_cOR"
   },
   "source": [
    "Compare those biases with the average ratings:"
   ]
  },
  {
   "cell_type": "code",
   "execution_count": 12,
   "metadata": {
    "id": "2OZopgXu_cOS"
   },
   "outputs": [],
   "source": [
    "mean_ratings = ratings.groupby('title')['rating'].mean()\n",
    "movie_ratings = [(b, i, mean_ratings.loc[i]) for i,b in zip(top_movies,movie_bias)]"
   ]
  },
  {
   "cell_type": "markdown",
   "metadata": {
    "id": "HhGYYjcR_cOU"
   },
   "source": [
    "Now let's have a look at the movies with the worst bias:"
   ]
  },
  {
   "cell_type": "code",
   "execution_count": 13,
   "metadata": {
    "id": "-elyr7--_cOU",
    "outputId": "2fefe32c-15a5-4602-ebb1-07fcdede228e"
   },
   "outputs": [
    {
     "data": {
      "text/plain": [
       "[(tensor(-0.3883),\n",
       "  'Children of the Corn: The Gathering (1996)',\n",
       "  1.3157894736842106),\n",
       " (tensor(-0.3559), 'Mortal Kombat: Annihilation (1997)', 1.9534883720930232),\n",
       " (tensor(-0.3065),\n",
       "  'Lawnmower Man 2: Beyond Cyberspace (1996)',\n",
       "  1.7142857142857142),\n",
       " (tensor(-0.2551), 'Island of Dr. Moreau, The (1996)', 2.1578947368421053),\n",
       " (tensor(-0.2530), 'Showgirls (1995)', 1.9565217391304348),\n",
       " (tensor(-0.2493), 'Beverly Hills Ninja (1997)', 2.3125),\n",
       " (tensor(-0.2429), 'Crow: City of Angels, The (1996)', 1.9487179487179487),\n",
       " (tensor(-0.2354), \"McHale's Navy (1997)\", 2.1884057971014492),\n",
       " (tensor(-0.2350), 'Stuart Saves His Family (1995)', 2.125),\n",
       " (tensor(-0.2267), 'Flintstones, The (1994)', 2.064516129032258),\n",
       " (tensor(-0.2264), 'Cable Guy, The (1996)', 2.339622641509434),\n",
       " (tensor(-0.2238), 'Beautician and the Beast, The (1997)', 2.313953488372093),\n",
       " (tensor(-0.2228), 'Home Alone 3 (1997)', 1.894736842105263),\n",
       " (tensor(-0.2181), 'Free Willy 3: The Rescue (1997)', 1.7407407407407407),\n",
       " (tensor(-0.2174), \"Joe's Apartment (1996)\", 2.2444444444444445)]"
      ]
     },
     "execution_count": 13,
     "metadata": {},
     "output_type": "execute_result"
    }
   ],
   "source": [
    "item0 = lambda o:o[0]\n",
    "sorted(movie_ratings, key=item0)[:15]"
   ]
  },
  {
   "cell_type": "markdown",
   "metadata": {
    "id": "HnZEs2hQ_cOX"
   },
   "source": [
    "Or the ones with the best bias:"
   ]
  },
  {
   "cell_type": "code",
   "execution_count": 14,
   "metadata": {
    "id": "z-K4B6CJ_cOX",
    "outputId": "07088213-027d-43b4-9ecd-84b2465c861b"
   },
   "outputs": [
    {
     "data": {
      "text/plain": [
       "[(tensor(0.5441), 'Star Wars (1977)', 4.3584905660377355),\n",
       " (tensor(0.5386), 'Titanic (1997)', 4.2457142857142856),\n",
       " (tensor(0.5381), 'Shawshank Redemption, The (1994)', 4.445229681978798),\n",
       " (tensor(0.5283), \"Schindler's List (1993)\", 4.466442953020135),\n",
       " (tensor(0.5199), 'Rear Window (1954)', 4.3875598086124405),\n",
       " (tensor(0.4985), 'Usual Suspects, The (1995)', 4.385767790262173),\n",
       " (tensor(0.4979), 'Silence of the Lambs, The (1991)', 4.28974358974359),\n",
       " (tensor(0.4844), 'L.A. Confidential (1997)', 4.161616161616162),\n",
       " (tensor(0.4803), 'Boot, Das (1981)', 4.203980099502488),\n",
       " (tensor(0.4735), 'As Good As It Gets (1997)', 4.196428571428571),\n",
       " (tensor(0.4589), 'Casablanca (1942)', 4.45679012345679),\n",
       " (tensor(0.4568), \"One Flew Over the Cuckoo's Nest (1975)\", 4.291666666666667),\n",
       " (tensor(0.4416), 'North by Northwest (1959)', 4.284916201117318),\n",
       " (tensor(0.4393), 'To Kill a Mockingbird (1962)', 4.292237442922374),\n",
       " (tensor(0.4324), 'Much Ado About Nothing (1993)', 4.0625)]"
      ]
     },
     "execution_count": 14,
     "metadata": {},
     "output_type": "execute_result"
    }
   ],
   "source": [
    "sorted(movie_ratings, key=lambda o: o[0], reverse=True)[:15]"
   ]
  },
  {
   "cell_type": "markdown",
   "metadata": {
    "id": "0ysMj7pr_cOb"
   },
   "source": [
    "There is certainly a strong correlation!"
   ]
  },
  {
   "cell_type": "markdown",
   "metadata": {
    "id": "qquGLFeF_cOb"
   },
   "source": [
    "### Movie weights"
   ]
  },
  {
   "cell_type": "markdown",
   "metadata": {
    "id": "Sm2CDRSE_cOc"
   },
   "source": [
    "Now let's try to analyze the latent factors our model has learned. We can grab the weights for each movie in `top_movies` the same way as we did for the bias before."
   ]
  },
  {
   "cell_type": "code",
   "execution_count": 15,
   "metadata": {
    "id": "4oGAMm8l_cOc",
    "outputId": "da511ecc-9566-4890-aa40-cb682cea2fdf"
   },
   "outputs": [
    {
     "data": {
      "text/plain": [
       "torch.Size([1000, 50])"
      ]
     },
     "execution_count": 15,
     "metadata": {},
     "output_type": "execute_result"
    }
   ],
   "source": [
    "movie_w = learn.model.weight(top_movies, is_item=True)\n",
    "movie_w.shape"
   ]
  },
  {
   "cell_type": "markdown",
   "metadata": {
    "id": "YY1b7TXQ_cOe"
   },
   "source": [
    "Let's try a PCA to reduce the dimensions and see if we can see what the model learned:"
   ]
  },
  {
   "cell_type": "code",
   "execution_count": 16,
   "metadata": {
    "id": "VvF5guOd_cOf",
    "outputId": "dd322c22-3b9f-469e-ca59-ddf0b2a0b87f"
   },
   "outputs": [
    {
     "data": {
      "text/plain": [
       "torch.Size([1000, 3])"
      ]
     },
     "execution_count": 16,
     "metadata": {},
     "output_type": "execute_result"
    }
   ],
   "source": [
    "movie_pca = movie_w.pca(3)\n",
    "movie_pca.shape"
   ]
  },
  {
   "cell_type": "code",
   "execution_count": 17,
   "metadata": {
    "id": "HbsCxfU__cOh"
   },
   "outputs": [],
   "source": [
    "fac0,fac1,fac2 = movie_pca.t()\n",
    "movie_comp = [(f, i) for f,i in zip(fac0, top_movies)]"
   ]
  },
  {
   "cell_type": "markdown",
   "metadata": {
    "id": "f3D90tvt_cOj"
   },
   "source": [
    "Here are the highest score on the first dimension:"
   ]
  },
  {
   "cell_type": "code",
   "execution_count": 18,
   "metadata": {
    "id": "G4TgUpy0_cOj",
    "outputId": "0c9032e7-b4d2-47b4-e58c-2f35487a2d82"
   },
   "outputs": [
    {
     "data": {
      "text/plain": [
       "[(tensor(1.1478), 'Casablanca (1942)'),\n",
       " (tensor(1.1091), 'Wrong Trousers, The (1993)'),\n",
       " (tensor(1.0965), 'Beautiful Thing (1996)'),\n",
       " (tensor(1.0871), 'Chinatown (1974)'),\n",
       " (tensor(1.0677), 'Third Man, The (1949)'),\n",
       " (tensor(1.0583), 'Ran (1985)'),\n",
       " (tensor(1.0558), 'When We Were Kings (1996)'),\n",
       " (tensor(1.0464), 'Fargo (1996)'),\n",
       " (tensor(1.0315), 'Godfather, The (1972)'),\n",
       " (tensor(1.0010), 'Lawrence of Arabia (1962)')]"
      ]
     },
     "execution_count": 18,
     "metadata": {},
     "output_type": "execute_result"
    }
   ],
   "source": [
    "sorted(movie_comp, key=itemgetter(0), reverse=True)[:10]"
   ]
  },
  {
   "cell_type": "markdown",
   "metadata": {
    "id": "CM7bKk01_cOl"
   },
   "source": [
    "And the worst:"
   ]
  },
  {
   "cell_type": "code",
   "execution_count": 19,
   "metadata": {
    "id": "OjL1lAAT_cOl",
    "outputId": "9dc4f71b-5904-4e7e-ca2b-3e85077f3967"
   },
   "outputs": [
    {
     "data": {
      "text/plain": [
       "[(tensor(-1.2342), 'Home Alone 3 (1997)'),\n",
       " (tensor(-1.1840), 'Bio-Dome (1996)'),\n",
       " (tensor(-1.1110), 'Leave It to Beaver (1997)'),\n",
       " (tensor(-1.1106), \"McHale's Navy (1997)\"),\n",
       " (tensor(-1.1004), 'Children of the Corn: The Gathering (1996)'),\n",
       " (tensor(-1.0843), 'Spice World (1997)'),\n",
       " (tensor(-1.0785), 'D3: The Mighty Ducks (1996)'),\n",
       " (tensor(-1.0763), 'Grease 2 (1982)'),\n",
       " (tensor(-1.0689), 'Congo (1995)'),\n",
       " (tensor(-1.0611), 'Jungle2Jungle (1997)')]"
      ]
     },
     "execution_count": 19,
     "metadata": {},
     "output_type": "execute_result"
    }
   ],
   "source": [
    "sorted(movie_comp, key=itemgetter(0))[:10]"
   ]
  },
  {
   "cell_type": "markdown",
   "metadata": {
    "id": "m0y6MTCj_cOo"
   },
   "source": [
    "Same thing for our second dimension:"
   ]
  },
  {
   "cell_type": "code",
   "execution_count": 20,
   "metadata": {
    "id": "oTUNxEnJ_cOo"
   },
   "outputs": [],
   "source": [
    "movie_comp = [(f, i) for f,i in zip(fac1, top_movies)]"
   ]
  },
  {
   "cell_type": "code",
   "execution_count": 21,
   "metadata": {
    "id": "prPOB6c4_cOr",
    "outputId": "98b9c340-d345-48fd-af2d-7f1dfbc6a04e"
   },
   "outputs": [
    {
     "data": {
      "text/plain": [
       "[(tensor(1.2232), 'Braveheart (1995)'),\n",
       " (tensor(1.2210), 'Raiders of the Lost Ark (1981)'),\n",
       " (tensor(1.2073), 'Titanic (1997)'),\n",
       " (tensor(0.9709), 'American President, The (1995)'),\n",
       " (tensor(0.9440), 'Forrest Gump (1994)'),\n",
       " (tensor(0.8774), \"It's a Wonderful Life (1946)\"),\n",
       " (tensor(0.8656), 'Shawshank Redemption, The (1994)'),\n",
       " (tensor(0.8460), 'Jurassic Park (1993)'),\n",
       " (tensor(0.8172), 'Ghost (1990)'),\n",
       " (tensor(0.8138), 'Independence Day (ID4) (1996)')]"
      ]
     },
     "execution_count": 21,
     "metadata": {},
     "output_type": "execute_result"
    }
   ],
   "source": [
    "sorted(movie_comp, key=itemgetter(0), reverse=True)[:10]"
   ]
  },
  {
   "cell_type": "code",
   "execution_count": 22,
   "metadata": {
    "id": "JlYu-eB4_cOt",
    "outputId": "031b5742-641f-4e74-af19-e2a8f3f98d70"
   },
   "outputs": [
    {
     "data": {
      "text/plain": [
       "[(tensor(-0.8726), 'Boogie Nights (1997)'),\n",
       " (tensor(-0.8684), 'Cable Guy, The (1996)'),\n",
       " (tensor(-0.8515), 'Keys to Tulsa (1997)'),\n",
       " (tensor(-0.8453), 'Jude (1996)'),\n",
       " (tensor(-0.8451), 'Trainspotting (1996)'),\n",
       " (tensor(-0.8426), 'Stupids, The (1996)'),\n",
       " (tensor(-0.8371), 'Heavenly Creatures (1994)'),\n",
       " (tensor(-0.7676), 'Nosferatu (Nosferatu, eine Symphonie des Grauens) (1922)'),\n",
       " (tensor(-0.7536), 'Brazil (1985)'),\n",
       " (tensor(-0.7501), 'Serial Mom (1994)')]"
      ]
     },
     "execution_count": 22,
     "metadata": {},
     "output_type": "execute_result"
    }
   ],
   "source": [
    "sorted(movie_comp, key=itemgetter(0))[:10]"
   ]
  },
  {
   "cell_type": "markdown",
   "metadata": {
    "id": "is4V3qSI_cOv"
   },
   "source": [
    "And we can even plot the movies according to their scores on those dimensions:"
   ]
  },
  {
   "cell_type": "code",
   "execution_count": 23,
   "metadata": {
    "id": "QFpdFQ8v_cOv",
    "outputId": "547987c8-0f0c-49d4-a870-2a420575c274"
   },
   "outputs": [
    {
     "data": {
      "image/png": "[encoded data removed]",
      "text/plain": [
       "<Figure size 1080x1080 with 1 Axes>"
      ]
     },
     "metadata": {
      "needs_background": "light"
     },
     "output_type": "display_data"
    }
   ],
   "source": [
    "idxs = np.random.choice(len(top_movies), 50, replace=False)\n",
    "idxs = list(range(50))\n",
    "X = fac0[idxs]\n",
    "Y = fac2[idxs]\n",
    "plt.figure(figsize=(15,15))\n",
    "plt.scatter(X, Y)\n",
    "for i, x, y in zip(top_movies[idxs], X, Y):\n",
    "    plt.text(x,y,i, color=np.random.rand(3)*0.7, fontsize=11)\n",
    "plt.show()"
   ]
  },
  {
   "cell_type": "code",
   "execution_count": null,
   "metadata": {
    "id": "U9KEmJWW_cOx"
   },
   "outputs": [],
   "source": []
  }
 ],
 "metadata": {
  "colab": {
   "name": "46_tutorial.collab.ipynb",
   "provenance": []
  },
  "jupytext": {
   "split_at_heading": true
  },
  "kernelspec": {
   "display_name": "Python 3",
   "language": "python",
   "name": "python3"
  },
  "language_info": {
   "codemirror_mode": {
    "name": "ipython",
    "version": 3
   },
   "file_extension": ".py",
   "mimetype": "text/x-python",
   "name": "python",
   "nbconvert_exporter": "python",
   "pygments_lexer": "ipython3",
   "version": "3.7.3"
  }
 },
 "nbformat": 4,
 "nbformat_minor": 1
}
